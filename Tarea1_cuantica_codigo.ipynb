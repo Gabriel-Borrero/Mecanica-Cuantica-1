{
 "cells": [
  {
   "cell_type": "markdown",
   "metadata": {},
   "source": [
    "Mecánica cuántica 1 - Tarea 1, punto 1d. \n",
    "Catalina Fuentes y Gabriel Borrero"
   ]
  },
  {
   "cell_type": "markdown",
   "metadata": {},
   "source": [
    "1. Temperatura 120000K"
   ]
  },
  {
   "cell_type": "markdown",
   "metadata": {},
   "source": [
    "1.1 Gráfico"
   ]
  },
  {
   "cell_type": "code",
   "execution_count": null,
   "metadata": {},
   "outputs": [],
   "source": [
    "import numpy as np\n",
    "import matplotlib.pyplot as plt\n",
    "\n",
    "#constantes\n",
    "constante_planck = 6.626e-34 \n",
    "velocidad_luz = 3.0e8  \n",
    "constante_boltzmann = 1.38e-23 \n",
    "constante_wien = 2.898e-3  \n",
    "\n",
    "#Planck\n",
    "def ley_planck(longitud_onda, temperatura):\n",
    "    return (2 * np.pi * velocidad_luz**2 * constante_planck) / (longitud_onda**5) * (1 / (np.exp(constante_planck * velocidad_luz / (longitud_onda * constante_boltzmann * temperatura)) - 1))\n",
    "\n",
    "temperatura = 120000  \n",
    "longitudes_onda = np.linspace(1e-9, 1e-7, 1000)\n",
    "intensidad = ley_planck(longitudes_onda, temperatura)\n",
    "\n",
    "indice_max = np.argmax(intensidad)\n",
    "longitud_max_planck = longitudes_onda[indice_max]\n",
    "intensidad_max = intensidad[indice_max]\n",
    "\n",
    "#Wien\n",
    "def ley_wien(temperatura):\n",
    "    return constante_wien / temperatura\n",
    "\n",
    "longitud_max_wien = ley_wien(temperatura)\n",
    "#grafica\n",
    "plt.figure(figsize=(8, 5))\n",
    "plt.plot(longitudes_onda * 1e9, intensidad, label=f\"T = {temperatura} K\", color='r')\n",
    "plt.axvline(longitud_max_planck * 1e9, color='b', linestyle='--', label=\"Máximo Planck\")\n",
    "plt.axvline(longitud_max_wien * 1e9, color='g', linestyle='--', label=\"Máximo Wien\")\n",
    "plt.xlabel(\"Longitud de onda (nm)\")\n",
    "plt.ylabel(\"Intensidad espectral\")\n",
    "plt.title(f\"Intensidad vs Longitud de onda para T = {temperatura} K\")\n",
    "plt.legend()\n",
    "plt.grid()\n",
    "plt.show()"
   ]
  },
  {
   "cell_type": "markdown",
   "metadata": {},
   "source": [
    "1.2. Máximo vs longitud de onda Wien"
   ]
  },
  {
   "cell_type": "code",
   "execution_count": null,
   "metadata": {},
   "outputs": [],
   "source": [
    "print(f\"Longitud de onda del máximo de planck: {longitud_max_planck * 1e9} nm\")\n",
    "print(f\"Longitud de onda del máximo de wien: {longitud_max_wien * 1e9} nm\")\n",
    "print(\"Las longitudes de onda son tan cercanas que están superpuestas en la gráfica.\")"
   ]
  },
  {
   "cell_type": "code",
   "execution_count": null,
   "metadata": {},
   "outputs": [],
   "source": [
    "#Zoom para ver la separación\n",
    "temperatura = 120000  \n",
    "longitudes_onda1_1 = np.linspace(2.3e-8, 2.6e-8, 1000)\n",
    "intensidad = ley_planck(longitudes_onda1_1, temperatura)\n",
    "\n",
    "indice_max = np.argmax(intensidad)\n",
    "longitud_max_planck = longitudes_onda1_1[indice_max]\n",
    "intensidad_max = intensidad[indice_max]\n",
    "\n",
    "longitud_max_wien = ley_wien(temperatura)\n",
    "\n",
    "plt.figure(figsize=(8, 5))\n",
    "plt.plot(longitudes_onda1_1 * 1e9, intensidad, label=f\"T = {temperatura} K\", color='r')\n",
    "plt.axvline(longitud_max_planck * 1e9, color='b', linestyle='--', label=\"Máximo Planck\")\n",
    "plt.axvline(longitud_max_wien * 1e9, color='g', linestyle='--', label=\"Máximo Wien\")\n",
    "plt.xlabel(\"Longitud de onda (nm)\")\n",
    "plt.ylabel(\"Intensidad espectral\")\n",
    "plt.title(f\"Intensidad vs Longitud de onda para T = {temperatura} K\")\n",
    "plt.legend()\n",
    "plt.grid()\n",
    "plt.show()"
   ]
  },
  {
   "cell_type": "markdown",
   "metadata": {},
   "source": [
    "2. Temperatura 5800K"
   ]
  },
  {
   "cell_type": "markdown",
   "metadata": {},
   "source": [
    "2.1. Gráfico"
   ]
  },
  {
   "cell_type": "code",
   "execution_count": null,
   "metadata": {},
   "outputs": [],
   "source": [
    "#cambio de parámetros\n",
    "temperatura2 = 5800  \n",
    "longitudes_onda2 = np.linspace(1e-8, 3e-6, 1000)\n",
    "intensidad2 = ley_planck(longitudes_onda2, temperatura2)\n",
    "\n",
    "indice_max2 = np.argmax(intensidad2)\n",
    "longitud_max_planck2 = longitudes_onda2[indice_max2]\n",
    "intensidad_max2 = intensidad2[indice_max2]\n",
    "\n",
    "longitud_max_wien2 = ley_wien(temperatura2)\n",
    "\n",
    "#gráfica\n",
    "plt.figure(figsize=(8, 5))\n",
    "plt.plot(longitudes_onda2 * 1e9, intensidad2, label=f\"T = {temperatura2} K\", color='r')\n",
    "plt.axvline(longitud_max_planck2 * 1e9, color='b', linestyle='--', label=\"Máximo Planck\")\n",
    "plt.axvline(longitud_max_wien2 * 1e9, color='g', linestyle='--', label=\"Máximo Wien\")\n",
    "plt.xlabel(\"Longitud de onda (nm)\")\n",
    "plt.ylabel(\"Intensidad espectral\")\n",
    "plt.title(f\"Intensidad vs Longitud de onda para T = {temperatura2} K\")\n",
    "plt.legend()\n",
    "plt.grid()\n",
    "plt.show()"
   ]
  },
  {
   "cell_type": "markdown",
   "metadata": {},
   "source": [
    "2.2. Máximo"
   ]
  },
  {
   "cell_type": "code",
   "execution_count": null,
   "metadata": {},
   "outputs": [],
   "source": [
    "print(f\"Longitud de onda del máximo de planck: {longitud_max_planck2 * 1e9} nm\")\n",
    "print(f\"Longitud de onda del máximo de wien: {longitud_max_wien2 * 1e9} nm\")\n",
    "print(\"Las longitudes de onda son tan cercanas que están superpuestas en la gráfica.\")\n"
   ]
  },
  {
   "cell_type": "code",
   "execution_count": null,
   "metadata": {},
   "outputs": [],
   "source": [
    "#Zoom para ver la separación\n",
    "temperatura2 = 5800  \n",
    "longitudes_onda2_1 = np.linspace(4.8e-7, 0.52e-6, 1000)\n",
    "intensidad2 = ley_planck(longitudes_onda2_1, temperatura2)\n",
    "\n",
    "indice_max2 = np.argmax(intensidad2)\n",
    "longitud_max_planck2 = longitudes_onda2_1[indice_max2]\n",
    "intensidad_max2 = intensidad2[indice_max2]\n",
    "\n",
    "longitud_max_wien2 = ley_wien(temperatura2)\n",
    "\n",
    "#gráfica\n",
    "plt.figure(figsize=(8, 5))\n",
    "plt.plot(longitudes_onda2_1 * 1e9, intensidad2, label=f\"T = {temperatura2} K\", color='r')\n",
    "plt.axvline(longitud_max_planck2 * 1e9, color='b', linestyle='--', label=\"Máximo Planck\")\n",
    "plt.axvline(longitud_max_wien2 * 1e9, color='g', linestyle='--', label=\"Máximo Wien\")\n",
    "plt.xlabel(\"Longitud de onda (nm)\")\n",
    "plt.ylabel(\"Intensidad espectral\")\n",
    "plt.title(f\"Intensidad vs Longitud de onda para T = {temperatura2} K\")\n",
    "plt.legend()\n",
    "plt.grid()\n",
    "plt.show()\n"
   ]
  },
  {
   "cell_type": "markdown",
   "metadata": {},
   "source": [
    "3. Temperatura 100K"
   ]
  },
  {
   "cell_type": "markdown",
   "metadata": {},
   "source": [
    "3.1. Gráfico"
   ]
  },
  {
   "cell_type": "code",
   "execution_count": null,
   "metadata": {},
   "outputs": [],
   "source": [
    "#cambio de parámetros\n",
    "temperatura3 = 100  \n",
    "longitudes_onda3 = np.linspace(1e-5, 10e-5, 1000)\n",
    "intensidad3 = ley_planck(longitudes_onda3, temperatura3)\n",
    "\n",
    "indice_max3 = np.argmax(intensidad3)\n",
    "longitud_max_planck3 = longitudes_onda3[indice_max3]\n",
    "intensidad_max3 = intensidad3[indice_max3]\n",
    "\n",
    "longitud_max_wien3 = ley_wien(temperatura3)\n",
    "\n",
    "#gráfica\n",
    "plt.figure(figsize=(8, 5))\n",
    "plt.plot(longitudes_onda3 * 1e9, intensidad3, label=f\"T = {temperatura3} K\", color='r')\n",
    "plt.axvline(longitud_max_planck3 * 1e9, color='b', linestyle='--', label=\"Máximo Planck\")\n",
    "plt.axvline(longitud_max_wien3 * 1e9, color='g', linestyle='--', label=\"Máximo Wien\")\n",
    "plt.xlabel(\"Longitud de onda (nm)\")\n",
    "plt.ylabel(\"Intensidad espectral\")\n",
    "plt.title(f\"Intensidad vs Longitud de onda para T = {temperatura3} K\")\n",
    "plt.legend()\n",
    "plt.grid()\n",
    "plt.show()\n"
   ]
  },
  {
   "cell_type": "markdown",
   "metadata": {},
   "source": [
    "3.2. Máximo"
   ]
  },
  {
   "cell_type": "code",
   "execution_count": null,
   "metadata": {},
   "outputs": [],
   "source": [
    "print(f\"Longitud de onda del máximo de planck: {longitud_max_planck3 * 1e9} nm\")\n",
    "print(f\"Longitud de onda del máximo de wien: {longitud_max_wien3 * 1e9} nm\")\n",
    "print(\"Las longitudes de onda son tan cercanas que están superpuestas en la gráfica.\")"
   ]
  },
  {
   "cell_type": "code",
   "execution_count": null,
   "metadata": {},
   "outputs": [],
   "source": [
    "#Zoom para ver la separación\n",
    "temperatura3 = 100  \n",
    "longitudes_onda3_1 = np.linspace(2.8e-5, 3e-5, 1000)\n",
    "intensidad3 = ley_planck(longitudes_onda3_1, temperatura3)\n",
    "\n",
    "indice_max3 = np.argmax(intensidad3)\n",
    "longitud_max_planck3 = longitudes_onda3_1[indice_max3]\n",
    "intensidad_max3 = intensidad3[indice_max3]\n",
    "\n",
    "longitud_max_wien3 = ley_wien(temperatura3)\n",
    "\n",
    "#gráfica\n",
    "plt.figure(figsize=(8, 5))\n",
    "plt.plot(longitudes_onda3_1 * 1e9, intensidad3, label=f\"T = {temperatura3} K\", color='r')\n",
    "plt.axvline(longitud_max_planck3 * 1e9, color='b', linestyle='--', label=\"Máximo Planck\")\n",
    "plt.axvline(longitud_max_wien3 * 1e9, color='g', linestyle='--', label=\"Máximo Wien\")\n",
    "plt.xlabel(\"Longitud de onda (nm)\")\n",
    "plt.ylabel(\"Intensidad espectral\")\n",
    "plt.title(f\"Intensidad vs Longitud de onda para T = {temperatura3} K\")\n",
    "plt.legend()\n",
    "plt.grid()\n",
    "plt.show()"
   ]
  }
 ],
 "metadata": {
  "kernelspec": {
   "display_name": "Python 3",
   "language": "python",
   "name": "python3"
  },
  "language_info": {
   "codemirror_mode": {
    "name": "ipython",
    "version": 3
   },
   "file_extension": ".py",
   "mimetype": "text/x-python",
   "name": "python",
   "nbconvert_exporter": "python",
   "pygments_lexer": "ipython3",
   "version": "3.12.5"
  }
 },
 "nbformat": 4,
 "nbformat_minor": 2
}
